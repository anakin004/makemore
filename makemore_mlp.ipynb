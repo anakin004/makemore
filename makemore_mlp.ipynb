{
  "nbformat": 4,
  "nbformat_minor": 0,
  "metadata": {
    "colab": {
      "provenance": [],
      "authorship_tag": "ABX9TyMf+2njNg5xtitgbInK/Gh5"
    },
    "kernelspec": {
      "name": "python3",
      "display_name": "Python 3"
    },
    "language_info": {
      "name": "python"
    }
  },
  "cells": [
    {
      "cell_type": "code",
      "execution_count": 3,
      "metadata": {
        "id": "5ZuaZUp5oJh8"
      },
      "outputs": [],
      "source": [
        "import torch.nn.functional as F\n",
        "import matplotlib.pyplot as plt\n",
        "import numpy as np\n",
        "import kagglehub\n",
        "import torch\n",
        "import os\n",
        "%matplotlib inline"
      ]
    },
    {
      "cell_type": "code",
      "source": [
        "def download_dataset() -> str:\n",
        "    path = kagglehub.dataset_download(\"rishitjakharia/names-txt\")\n",
        "    return path # for easier access later"
      ],
      "metadata": {
        "id": "g44jFQs2qCGl"
      },
      "execution_count": 4,
      "outputs": []
    },
    {
      "cell_type": "code",
      "source": [
        "dataset_path = download_dataset() + \"/names.txt\""
      ],
      "metadata": {
        "id": "MA9H16s-qPXT"
      },
      "execution_count": 5,
      "outputs": []
    },
    {
      "cell_type": "code",
      "source": [
        "words = open(dataset_path, 'r').read().splitlines()"
      ],
      "metadata": {
        "id": "VYqGvxdiqWwr"
      },
      "execution_count": 6,
      "outputs": []
    },
    {
      "cell_type": "code",
      "source": [
        "def make_int_char_maps() -> tuple[dict, dict]:\n",
        "  chars = sorted(list(set(''.join(words))))\n",
        "  ctoi = {c: i + 1 for i, c in enumerate(chars)}\n",
        "  ctoi['.'] = 0\n",
        "  itoc = {i: c for c, i in ctoi.items()}\n",
        "  return ctoi, itoc"
      ],
      "metadata": {
        "id": "K2-SWXb-qnq7"
      },
      "execution_count": 7,
      "outputs": []
    },
    {
      "cell_type": "code",
      "source": [
        "ctoi, itoc = make_int_char_maps()"
      ],
      "metadata": {
        "id": "RdXYrtwBq5sT"
      },
      "execution_count": 8,
      "outputs": []
    },
    {
      "cell_type": "code",
      "source": [
        "print(itoc)"
      ],
      "metadata": {
        "colab": {
          "base_uri": "https://localhost:8080/"
        },
        "id": "niQbCUjPrAuD",
        "outputId": "9b688bd4-9371-47b9-cc4e-85e8814ff2a3"
      },
      "execution_count": 13,
      "outputs": [
        {
          "output_type": "stream",
          "name": "stdout",
          "text": [
            "{1: 'a', 2: 'b', 3: 'c', 4: 'd', 5: 'e', 6: 'f', 7: 'g', 8: 'h', 9: 'i', 10: 'j', 11: 'k', 12: 'l', 13: 'm', 14: 'n', 15: 'o', 16: 'p', 17: 'q', 18: 'r', 19: 's', 20: 't', 21: 'u', 22: 'v', 23: 'w', 24: 'x', 25: 'y', 26: 'z', 0: '.'}\n"
          ]
        }
      ]
    },
    {
      "cell_type": "code",
      "source": [
        "print(ctoi)"
      ],
      "metadata": {
        "colab": {
          "base_uri": "https://localhost:8080/"
        },
        "id": "4t-Rs9ExvDw2",
        "outputId": "94ba81d1-4672-46ce-b92b-156936e61193"
      },
      "execution_count": 14,
      "outputs": [
        {
          "output_type": "stream",
          "name": "stdout",
          "text": [
            "{'a': 1, 'b': 2, 'c': 3, 'd': 4, 'e': 5, 'f': 6, 'g': 7, 'h': 8, 'i': 9, 'j': 10, 'k': 11, 'l': 12, 'm': 13, 'n': 14, 'o': 15, 'p': 16, 'q': 17, 'r': 18, 's': 19, 't': 20, 'u': 21, 'v': 22, 'w': 23, 'x': 24, 'y': 25, 'z': 26, '.': 0}\n"
          ]
        }
      ]
    },
    {
      "cell_type": "code",
      "source": [
        "def build_dataset() -> tuple[torch.tensor, torch.tensor]:\n",
        "\n",
        "  block_size = 3 # context length -> how many chars does it take to predict the next\n",
        "  inp, target = [], []\n",
        "  for w in words[:5]:\n",
        "\n",
        "    print(w)\n",
        "    context = [0] * block_size\n",
        "\n",
        "    for ch in w + '.':\n",
        "      ix = ctoi[ch]\n",
        "      inp.append(context)\n",
        "      target.append(ix)\n",
        "      print(''.join(itoc[i] for i in context), '--->', ch)\n",
        "      context = context[1:] + [ix] # crop and append\n",
        "\n",
        "  inp = torch.tensor(inp)\n",
        "  target = torch.tensor(target)\n",
        "  return inp, target"
      ],
      "metadata": {
        "id": "jJqoPknQvJ2N"
      },
      "execution_count": 44,
      "outputs": []
    },
    {
      "cell_type": "code",
      "source": [
        "inp, target = build_dataset()"
      ],
      "metadata": {
        "colab": {
          "base_uri": "https://localhost:8080/"
        },
        "id": "M1sfcaPUvugF",
        "outputId": "6e3738c2-9e3a-4c4b-a87e-9219cb125d78"
      },
      "execution_count": 47,
      "outputs": [
        {
          "output_type": "stream",
          "name": "stdout",
          "text": [
            "emma\n",
            "... ---> e\n",
            "..e ---> m\n",
            ".em ---> m\n",
            "emm ---> a\n",
            "mma ---> .\n",
            "olivia\n",
            "... ---> o\n",
            "..o ---> l\n",
            ".ol ---> i\n",
            "oli ---> v\n",
            "liv ---> i\n",
            "ivi ---> a\n",
            "via ---> .\n",
            "ava\n",
            "... ---> a\n",
            "..a ---> v\n",
            ".av ---> a\n",
            "ava ---> .\n",
            "isabella\n",
            "... ---> i\n",
            "..i ---> s\n",
            ".is ---> a\n",
            "isa ---> b\n",
            "sab ---> e\n",
            "abe ---> l\n",
            "bel ---> l\n",
            "ell ---> a\n",
            "lla ---> .\n",
            "sophia\n",
            "... ---> s\n",
            "..s ---> o\n",
            ".so ---> p\n",
            "sop ---> h\n",
            "oph ---> i\n",
            "phi ---> a\n",
            "hia ---> .\n"
          ]
        }
      ]
    },
    {
      "cell_type": "code",
      "source": [
        "inp.shape, target.shape, inp.dtype, target.dtype"
      ],
      "metadata": {
        "colab": {
          "base_uri": "https://localhost:8080/"
        },
        "id": "_0H48XDAw6pF",
        "outputId": "ec741409-dcd9-4c2c-cd68-cf0ecfef14b7"
      },
      "execution_count": 48,
      "outputs": [
        {
          "output_type": "execute_result",
          "data": {
            "text/plain": [
              "(torch.Size([32, 3]), torch.Size([32]), torch.int64, torch.int64)"
            ]
          },
          "metadata": {},
          "execution_count": 48
        }
      ]
    },
    {
      "cell_type": "code",
      "source": [
        "C = torch.randn(27, 2)"
      ],
      "metadata": {
        "id": "EaVJst_5xMmk"
      },
      "execution_count": 49,
      "outputs": []
    },
    {
      "cell_type": "code",
      "source": [
        "C[5]"
      ],
      "metadata": {
        "colab": {
          "base_uri": "https://localhost:8080/"
        },
        "id": "2L9q2jaQyDo7",
        "outputId": "3f5fabb3-f626-4d2a-c8b5-52e9cac59748"
      },
      "execution_count": 50,
      "outputs": [
        {
          "output_type": "execute_result",
          "data": {
            "text/plain": [
              "tensor([0.0436, 0.7178])"
            ]
          },
          "metadata": {},
          "execution_count": 50
        }
      ]
    },
    {
      "cell_type": "code",
      "source": [
        "(F.one_hot(torch.tensor(5), num_classes=27).float() @ C) # one hot allows us to pluck out a desired row\n",
        "                                                         # however, notice its the same as indexing, so this wont be used"
      ],
      "metadata": {
        "colab": {
          "base_uri": "https://localhost:8080/"
        },
        "id": "PkqeYAHGxUOj",
        "outputId": "6a94c1b4-79ac-43b2-c6cf-eacac447ab66"
      },
      "execution_count": 51,
      "outputs": [
        {
          "output_type": "execute_result",
          "data": {
            "text/plain": [
              "tensor([0.0436, 0.7178])"
            ]
          },
          "metadata": {},
          "execution_count": 51
        }
      ]
    },
    {
      "cell_type": "markdown",
      "source": [
        "inp contains contexts, defined in build dataset above\n",
        "each context contains index mappings from ctoi.\n",
        "these allow us to access embeddings in C.\n",
        "we can index into C efficienty with the help of PyTorch"
      ],
      "metadata": {
        "id": "sYTSkiT82Vgn"
      }
    },
    {
      "cell_type": "code",
      "source": [
        "C[inp]"
      ],
      "metadata": {
        "colab": {
          "base_uri": "https://localhost:8080/"
        },
        "id": "FberbX73zJ3a",
        "outputId": "7e61590b-1d24-416e-b355-141e2fadacc5"
      },
      "execution_count": 54,
      "outputs": [
        {
          "output_type": "execute_result",
          "data": {
            "text/plain": [
              "tensor([[[ 0.1794, -0.3265],\n",
              "         [ 0.1794, -0.3265],\n",
              "         [ 0.1794, -0.3265]],\n",
              "\n",
              "        [[ 0.1794, -0.3265],\n",
              "         [ 0.1794, -0.3265],\n",
              "         [ 0.0436,  0.7178]],\n",
              "\n",
              "        [[ 0.1794, -0.3265],\n",
              "         [ 0.0436,  0.7178],\n",
              "         [-1.0405,  1.6055]],\n",
              "\n",
              "        [[ 0.0436,  0.7178],\n",
              "         [-1.0405,  1.6055],\n",
              "         [-1.0405,  1.6055]],\n",
              "\n",
              "        [[-1.0405,  1.6055],\n",
              "         [-1.0405,  1.6055],\n",
              "         [-0.2144,  0.0902]],\n",
              "\n",
              "        [[ 0.1794, -0.3265],\n",
              "         [ 0.1794, -0.3265],\n",
              "         [ 0.1794, -0.3265]],\n",
              "\n",
              "        [[ 0.1794, -0.3265],\n",
              "         [ 0.1794, -0.3265],\n",
              "         [ 1.7335, -1.1363]],\n",
              "\n",
              "        [[ 0.1794, -0.3265],\n",
              "         [ 1.7335, -1.1363],\n",
              "         [ 0.8895,  0.3231]],\n",
              "\n",
              "        [[ 1.7335, -1.1363],\n",
              "         [ 0.8895,  0.3231],\n",
              "         [-0.2673,  0.4811]],\n",
              "\n",
              "        [[ 0.8895,  0.3231],\n",
              "         [-0.2673,  0.4811],\n",
              "         [-0.6972, -0.2240]],\n",
              "\n",
              "        [[-0.2673,  0.4811],\n",
              "         [-0.6972, -0.2240],\n",
              "         [-0.2673,  0.4811]],\n",
              "\n",
              "        [[-0.6972, -0.2240],\n",
              "         [-0.2673,  0.4811],\n",
              "         [-0.2144,  0.0902]],\n",
              "\n",
              "        [[ 0.1794, -0.3265],\n",
              "         [ 0.1794, -0.3265],\n",
              "         [ 0.1794, -0.3265]],\n",
              "\n",
              "        [[ 0.1794, -0.3265],\n",
              "         [ 0.1794, -0.3265],\n",
              "         [-0.2144,  0.0902]],\n",
              "\n",
              "        [[ 0.1794, -0.3265],\n",
              "         [-0.2144,  0.0902],\n",
              "         [-0.6972, -0.2240]],\n",
              "\n",
              "        [[-0.2144,  0.0902],\n",
              "         [-0.6972, -0.2240],\n",
              "         [-0.2144,  0.0902]],\n",
              "\n",
              "        [[ 0.1794, -0.3265],\n",
              "         [ 0.1794, -0.3265],\n",
              "         [ 0.1794, -0.3265]],\n",
              "\n",
              "        [[ 0.1794, -0.3265],\n",
              "         [ 0.1794, -0.3265],\n",
              "         [-0.2673,  0.4811]],\n",
              "\n",
              "        [[ 0.1794, -0.3265],\n",
              "         [-0.2673,  0.4811],\n",
              "         [ 0.0886, -2.3014]],\n",
              "\n",
              "        [[-0.2673,  0.4811],\n",
              "         [ 0.0886, -2.3014],\n",
              "         [-0.2144,  0.0902]],\n",
              "\n",
              "        [[ 0.0886, -2.3014],\n",
              "         [-0.2144,  0.0902],\n",
              "         [ 1.2539,  0.0275]],\n",
              "\n",
              "        [[-0.2144,  0.0902],\n",
              "         [ 1.2539,  0.0275],\n",
              "         [ 0.0436,  0.7178]],\n",
              "\n",
              "        [[ 1.2539,  0.0275],\n",
              "         [ 0.0436,  0.7178],\n",
              "         [ 0.8895,  0.3231]],\n",
              "\n",
              "        [[ 0.0436,  0.7178],\n",
              "         [ 0.8895,  0.3231],\n",
              "         [ 0.8895,  0.3231]],\n",
              "\n",
              "        [[ 0.8895,  0.3231],\n",
              "         [ 0.8895,  0.3231],\n",
              "         [-0.2144,  0.0902]],\n",
              "\n",
              "        [[ 0.1794, -0.3265],\n",
              "         [ 0.1794, -0.3265],\n",
              "         [ 0.1794, -0.3265]],\n",
              "\n",
              "        [[ 0.1794, -0.3265],\n",
              "         [ 0.1794, -0.3265],\n",
              "         [ 0.0886, -2.3014]],\n",
              "\n",
              "        [[ 0.1794, -0.3265],\n",
              "         [ 0.0886, -2.3014],\n",
              "         [ 1.7335, -1.1363]],\n",
              "\n",
              "        [[ 0.0886, -2.3014],\n",
              "         [ 1.7335, -1.1363],\n",
              "         [ 2.1979,  0.5939]],\n",
              "\n",
              "        [[ 1.7335, -1.1363],\n",
              "         [ 2.1979,  0.5939],\n",
              "         [-2.7168,  1.8256]],\n",
              "\n",
              "        [[ 2.1979,  0.5939],\n",
              "         [-2.7168,  1.8256],\n",
              "         [-0.2673,  0.4811]],\n",
              "\n",
              "        [[-2.7168,  1.8256],\n",
              "         [-0.2673,  0.4811],\n",
              "         [-0.2144,  0.0902]]])"
            ]
          },
          "metadata": {},
          "execution_count": 54
        }
      ]
    },
    {
      "cell_type": "code",
      "source": [],
      "metadata": {
        "id": "tgpQBgFp2En3"
      },
      "execution_count": null,
      "outputs": []
    }
  ]
}