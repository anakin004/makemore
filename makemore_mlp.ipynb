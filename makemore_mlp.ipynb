{
  "nbformat": 4,
  "nbformat_minor": 0,
  "metadata": {
    "colab": {
      "provenance": [],
      "authorship_tag": "ABX9TyPGgJVVL8pBDWqxpN/tao9F"
    },
    "kernelspec": {
      "name": "python3",
      "display_name": "Python 3"
    },
    "language_info": {
      "name": "python"
    }
  },
  "cells": [
    {
      "cell_type": "code",
      "execution_count": 1,
      "metadata": {
        "id": "5ZuaZUp5oJh8"
      },
      "outputs": [],
      "source": [
        "import torch.nn.functional as F\n",
        "import matplotlib.pyplot as plt\n",
        "import numpy as np\n",
        "import kagglehub\n",
        "import torch\n",
        "import os\n",
        "%matplotlib inline"
      ]
    },
    {
      "cell_type": "code",
      "source": [
        "def download_dataset() -> str:\n",
        "    path = kagglehub.dataset_download(\"rishitjakharia/names-txt\")\n",
        "    return path # for easier access later"
      ],
      "metadata": {
        "id": "g44jFQs2qCGl"
      },
      "execution_count": 2,
      "outputs": []
    },
    {
      "cell_type": "code",
      "source": [
        "dataset_path = download_dataset() + \"/names.txt\""
      ],
      "metadata": {
        "id": "MA9H16s-qPXT",
        "colab": {
          "base_uri": "https://localhost:8080/"
        },
        "outputId": "674d3695-84ba-499c-9e21-ee67d71088b8"
      },
      "execution_count": 3,
      "outputs": [
        {
          "output_type": "stream",
          "name": "stdout",
          "text": [
            "Downloading from https://www.kaggle.com/api/v1/datasets/download/rishitjakharia/names-txt?dataset_version_number=1...\n"
          ]
        },
        {
          "output_type": "stream",
          "name": "stderr",
          "text": [
            "100%|██████████| 113k/113k [00:00<00:00, 394kB/s]"
          ]
        },
        {
          "output_type": "stream",
          "name": "stdout",
          "text": [
            "Extracting files...\n"
          ]
        },
        {
          "output_type": "stream",
          "name": "stderr",
          "text": [
            "\n"
          ]
        }
      ]
    },
    {
      "cell_type": "code",
      "source": [
        "words = open(dataset_path, 'r').read().splitlines()"
      ],
      "metadata": {
        "id": "VYqGvxdiqWwr"
      },
      "execution_count": 4,
      "outputs": []
    },
    {
      "cell_type": "code",
      "source": [
        "def make_int_char_maps() -> tuple[dict, dict]:\n",
        "  chars = sorted(list(set(''.join(words))))\n",
        "  ctoi = {c: i + 1 for i, c in enumerate(chars)}\n",
        "  ctoi['.'] = 0\n",
        "  itoc = {i: c for c, i in ctoi.items()}\n",
        "  return ctoi, itoc"
      ],
      "metadata": {
        "id": "K2-SWXb-qnq7"
      },
      "execution_count": 5,
      "outputs": []
    },
    {
      "cell_type": "code",
      "source": [
        "ctoi, itoc = make_int_char_maps()"
      ],
      "metadata": {
        "id": "RdXYrtwBq5sT"
      },
      "execution_count": 6,
      "outputs": []
    },
    {
      "cell_type": "code",
      "source": [
        "print(itoc)"
      ],
      "metadata": {
        "colab": {
          "base_uri": "https://localhost:8080/"
        },
        "id": "niQbCUjPrAuD",
        "outputId": "2e2faee7-4791-4476-ebfe-36b35cb44210"
      },
      "execution_count": 7,
      "outputs": [
        {
          "output_type": "stream",
          "name": "stdout",
          "text": [
            "{1: 'a', 2: 'b', 3: 'c', 4: 'd', 5: 'e', 6: 'f', 7: 'g', 8: 'h', 9: 'i', 10: 'j', 11: 'k', 12: 'l', 13: 'm', 14: 'n', 15: 'o', 16: 'p', 17: 'q', 18: 'r', 19: 's', 20: 't', 21: 'u', 22: 'v', 23: 'w', 24: 'x', 25: 'y', 26: 'z', 0: '.'}\n"
          ]
        }
      ]
    },
    {
      "cell_type": "code",
      "source": [
        "print(ctoi)"
      ],
      "metadata": {
        "colab": {
          "base_uri": "https://localhost:8080/"
        },
        "id": "4t-Rs9ExvDw2",
        "outputId": "2d2506ef-7552-455a-b813-7a4d8439d676"
      },
      "execution_count": null,
      "outputs": [
        {
          "output_type": "stream",
          "name": "stdout",
          "text": [
            "{'a': 1, 'b': 2, 'c': 3, 'd': 4, 'e': 5, 'f': 6, 'g': 7, 'h': 8, 'i': 9, 'j': 10, 'k': 11, 'l': 12, 'm': 13, 'n': 14, 'o': 15, 'p': 16, 'q': 17, 'r': 18, 's': 19, 't': 20, 'u': 21, 'v': 22, 'w': 23, 'x': 24, 'y': 25, 'z': 26, '.': 0}\n"
          ]
        }
      ]
    },
    {
      "cell_type": "code",
      "source": [
        "vocab_size = len(ctoi)\n",
        "print(vocab_size)"
      ],
      "metadata": {
        "colab": {
          "base_uri": "https://localhost:8080/"
        },
        "id": "Bpbdik5_ne80",
        "outputId": "0946c77d-6b71-4671-86de-4e1997ec0366"
      },
      "execution_count": 7,
      "outputs": [
        {
          "output_type": "stream",
          "name": "stdout",
          "text": [
            "27\n"
          ]
        }
      ]
    },
    {
      "cell_type": "code",
      "source": [
        "def build_dataset(inp_words) -> tuple[torch.tensor, torch.tensor]:\n",
        "\n",
        "  block_size = 3 # context length -> how many chars does it take to predict the next\n",
        "  inp, target = [], []\n",
        "  for w in inp_words:\n",
        "    context = [0] * block_size\n",
        "\n",
        "    for ch in w + '.':\n",
        "      ix = ctoi[ch]\n",
        "      inp.append(context)\n",
        "      target.append(ix)\n",
        "      context = context[1:] + [ix] # crop and append\n",
        "\n",
        "  inp = torch.tensor(inp)\n",
        "  target = torch.tensor(target)\n",
        "  return inp, target"
      ],
      "metadata": {
        "id": "jJqoPknQvJ2N"
      },
      "execution_count": 8,
      "outputs": []
    },
    {
      "cell_type": "code",
      "source": [
        "import random\n",
        "random.seed(42)\n",
        "random.shuffle(words)\n",
        "\n",
        "n1 = int(0.8*len(words))\n",
        "n2 = int(0.9*len(words))\n",
        "\n",
        "Xtr, Ytr = build_dataset(words[:n1])\n",
        "Xval, Yval = build_dataset(words[n1:n2])\n",
        "Xtest, Ytest = build_dataset(words[n2:])"
      ],
      "metadata": {
        "id": "ImgmzsGI4ccX"
      },
      "execution_count": 9,
      "outputs": []
    },
    {
      "cell_type": "code",
      "source": [
        "Xtr.shape, Xval.shape, Xtest.shape"
      ],
      "metadata": {
        "colab": {
          "base_uri": "https://localhost:8080/"
        },
        "id": "andw8kRg5BgO",
        "outputId": "d8d9eb17-4dfc-40b4-9a26-77f00ea0837c"
      },
      "execution_count": null,
      "outputs": [
        {
          "output_type": "execute_result",
          "data": {
            "text/plain": [
              "(torch.Size([182625, 3]), torch.Size([22655, 3]), torch.Size([22866, 3]))"
            ]
          },
          "metadata": {},
          "execution_count": 11
        }
      ]
    },
    {
      "cell_type": "code",
      "source": [
        "inp, target = build_dataset(words)"
      ],
      "metadata": {
        "id": "M1sfcaPUvugF"
      },
      "execution_count": null,
      "outputs": []
    },
    {
      "cell_type": "code",
      "source": [
        "inp.shape, target.shape, inp.dtype, target.dtype"
      ],
      "metadata": {
        "colab": {
          "base_uri": "https://localhost:8080/"
        },
        "id": "_0H48XDAw6pF",
        "outputId": "cb4dd472-5937-43cf-eb77-19c7a450d492"
      },
      "execution_count": null,
      "outputs": [
        {
          "output_type": "execute_result",
          "data": {
            "text/plain": [
              "(torch.Size([228146, 3]), torch.Size([228146]), torch.int64, torch.int64)"
            ]
          },
          "metadata": {},
          "execution_count": 102
        }
      ]
    },
    {
      "cell_type": "code",
      "source": [
        "C = torch.randn(27, 2) # 27 characters mapping to a 2d vector embedding`"
      ],
      "metadata": {
        "id": "4kGCz2qwzO7h"
      },
      "execution_count": null,
      "outputs": []
    },
    {
      "cell_type": "code",
      "source": [
        "C[5]"
      ],
      "metadata": {
        "colab": {
          "base_uri": "https://localhost:8080/"
        },
        "id": "2L9q2jaQyDo7",
        "outputId": "10293408-538e-493e-9818-a7d0da88aa86"
      },
      "execution_count": null,
      "outputs": [
        {
          "output_type": "execute_result",
          "data": {
            "text/plain": [
              "tensor([-2.2621, -1.0324])"
            ]
          },
          "metadata": {},
          "execution_count": 104
        }
      ]
    },
    {
      "cell_type": "code",
      "source": [
        "(F.one_hot(torch.tensor(5), num_classes=27).float() @ C) # one hot allows us to pluck out a desired row\n",
        "                                                         # however, notice its the same as indexing, so this wont be used"
      ],
      "metadata": {
        "colab": {
          "base_uri": "https://localhost:8080/"
        },
        "id": "PkqeYAHGxUOj",
        "outputId": "ee59fa92-2064-46e0-e215-70b9e6df4f7c"
      },
      "execution_count": null,
      "outputs": [
        {
          "output_type": "execute_result",
          "data": {
            "text/plain": [
              "tensor([-2.2621, -1.0324])"
            ]
          },
          "metadata": {},
          "execution_count": 105
        }
      ]
    },
    {
      "cell_type": "markdown",
      "source": [
        "inp contains contexts, defined in build dataset above\n",
        "each context contains index mappings from ctoi.\n",
        "these allow us to access embeddings in C.\n",
        "we can index into C efficienty with the help of PyTorch"
      ],
      "metadata": {
        "id": "sYTSkiT82Vgn"
      }
    },
    {
      "cell_type": "code",
      "source": [
        "C[inp].shape"
      ],
      "metadata": {
        "colab": {
          "base_uri": "https://localhost:8080/"
        },
        "id": "FberbX73zJ3a",
        "outputId": "bf8ccc0e-600c-43c5-ae6a-71088d8bee58"
      },
      "execution_count": null,
      "outputs": [
        {
          "output_type": "execute_result",
          "data": {
            "text/plain": [
              "torch.Size([228146, 3, 2])"
            ]
          },
          "metadata": {},
          "execution_count": 106
        }
      ]
    },
    {
      "cell_type": "code",
      "source": [
        "n_emb = 10 # number of dimensions in emb\n",
        "n_hidden = 200 # number of neurons in hidden layer\n",
        "block_size = 3 # size of each context\n",
        "\n",
        "C = torch.randn((vocab_size, n_emb))\n",
        "emb = C[Xtr]\n",
        "W1 = torch.randn((n_emb * block_size, n_hidden)) # this is our hiddem layer, recieving 6 inputs, since each input has three characters, each having two elements\n",
        "B1 = torch.randn(n_hidden) # 100 biases for each weight"
      ],
      "metadata": {
        "id": "tgpQBgFp2En3"
      },
      "execution_count": 11,
      "outputs": []
    },
    {
      "cell_type": "code",
      "source": [
        "h = torch.tanh(emb.view(-1, block_size * n_emb) @ W1 + B1)"
      ],
      "metadata": {
        "id": "wV_f27LP0isl"
      },
      "execution_count": 12,
      "outputs": []
    },
    {
      "cell_type": "code",
      "source": [
        "h"
      ],
      "metadata": {
        "colab": {
          "base_uri": "https://localhost:8080/"
        },
        "id": "bMo7jzfs3Z4I",
        "outputId": "a26ad296-85ff-442c-df54-f87de3ed0d7b"
      },
      "execution_count": 13,
      "outputs": [
        {
          "output_type": "execute_result",
          "data": {
            "text/plain": [
              "tensor([[-0.9998, -0.9812,  1.0000,  ...,  0.9423, -0.9996, -0.1811],\n",
              "        [ 0.6917,  0.6984,  1.0000,  ...,  1.0000, -0.9522,  0.9433],\n",
              "        [ 0.9620,  0.9999,  0.2111,  ..., -0.0852,  0.9998,  0.9858],\n",
              "        ...,\n",
              "        [-0.5529, -0.7079, -0.9936,  ...,  1.0000,  0.7004,  1.0000],\n",
              "        [-1.0000,  0.9913, -0.9043,  ..., -1.0000, -1.0000,  0.9934],\n",
              "        [ 1.0000,  0.9998, -0.8910,  ..., -0.9999,  1.0000,  0.9325]])"
            ]
          },
          "metadata": {},
          "execution_count": 13
        }
      ]
    },
    {
      "cell_type": "code",
      "source": [
        "W2 = torch.randn(n_hidden, vocab_size)\n",
        "B2 = torch.randn(vocab_size)"
      ],
      "metadata": {
        "id": "JSh1u3lk3ayF"
      },
      "execution_count": 14,
      "outputs": []
    },
    {
      "cell_type": "code",
      "source": [
        "logits = h @ W2 + B2"
      ],
      "metadata": {
        "id": "iK8nE4re3kiB"
      },
      "execution_count": 15,
      "outputs": []
    },
    {
      "cell_type": "code",
      "source": [
        "counts = logits.exp()"
      ],
      "metadata": {
        "id": "Ny_-MBnc3nNI"
      },
      "execution_count": 16,
      "outputs": []
    },
    {
      "cell_type": "code",
      "source": [
        "probs = counts / counts.sum(1, keepdim=True)"
      ],
      "metadata": {
        "id": "I9GktJTP3qXY"
      },
      "execution_count": 17,
      "outputs": []
    },
    {
      "cell_type": "code",
      "source": [
        "probs[torch.arange(Xtr.shape[0]), Ytr] # the probabilties for our target characters for each input"
      ],
      "metadata": {
        "colab": {
          "base_uri": "https://localhost:8080/"
        },
        "id": "0-S4hsQh3xov",
        "outputId": "9da3e4e9-189c-4440-e372-3ebcabe3eb51"
      },
      "execution_count": 18,
      "outputs": [
        {
          "output_type": "execute_result",
          "data": {
            "text/plain": [
              "tensor([6.4536e-05, 1.1297e-21, 8.6131e-24,  ..., 7.7814e-11, 9.3727e-15,\n",
              "        4.6479e-05])"
            ]
          },
          "metadata": {},
          "execution_count": 18
        }
      ]
    },
    {
      "cell_type": "code",
      "source": [
        "loss = -probs[torch.arange(Xtr.shape[0]), Ytr].log().mean()"
      ],
      "metadata": {
        "id": "KTQFEIrx8X5c"
      },
      "execution_count": 19,
      "outputs": []
    },
    {
      "cell_type": "code",
      "source": [
        "loss.item()"
      ],
      "metadata": {
        "colab": {
          "base_uri": "https://localhost:8080/"
        },
        "id": "WbUXlXdv8bs7",
        "outputId": "54f3dbdc-0ad1-49a1-b40e-170f55bfee16"
      },
      "execution_count": 20,
      "outputs": [
        {
          "output_type": "execute_result",
          "data": {
            "text/plain": [
              "27.00025749206543"
            ]
          },
          "metadata": {},
          "execution_count": 20
        }
      ]
    },
    {
      "cell_type": "markdown",
      "source": [
        "Now altogether"
      ],
      "metadata": {
        "id": "s5bPj1uA9H0d"
      }
    },
    {
      "cell_type": "code",
      "source": [
        "W1 = torch.randn((n_emb * block_size, n_hidden))\n",
        "B1 = torch.randn(n_hidden)\n",
        "W2 = torch.randn(n_hidden, vocab_size)\n",
        "B2 = torch.randn(vocab_size)\n",
        "params = [C, W1, B1, W2, B2]"
      ],
      "metadata": {
        "id": "nREQ1NCc9KRm"
      },
      "execution_count": 12,
      "outputs": []
    },
    {
      "cell_type": "code",
      "source": [
        "sum(p.nelement() for p in params ) # number of parameters"
      ],
      "metadata": {
        "colab": {
          "base_uri": "https://localhost:8080/"
        },
        "id": "8F3OeE-E9qJR",
        "outputId": "d3677e1a-61e6-4889-9b65-fc3f01252188"
      },
      "execution_count": 13,
      "outputs": [
        {
          "output_type": "execute_result",
          "data": {
            "text/plain": [
              "11897"
            ]
          },
          "metadata": {},
          "execution_count": 13
        }
      ]
    },
    {
      "cell_type": "code",
      "source": [
        "emb = C[Xtr]\n",
        "h = torch.tanh(emb.view(-1, block_size * n_emb) @ W1 + B1)\n",
        "logits = h @ W2 + B2\n",
        "counts = logits.exp()\n",
        "probs = counts / counts.sum(1, keepdim=True)\n",
        "loss = -probs[torch.arange(Xtr.shape[0]), Ytr].log().mean()"
      ],
      "metadata": {
        "id": "hYCvnMC299cw"
      },
      "execution_count": 14,
      "outputs": []
    },
    {
      "cell_type": "code",
      "source": [
        "loss # this loss is different from above because we initialize new random weights and biases"
      ],
      "metadata": {
        "colab": {
          "base_uri": "https://localhost:8080/"
        },
        "id": "jAdWXfJM-oPU",
        "outputId": "5733582e-960c-4c0c-cec7-88de27bbd88f"
      },
      "execution_count": 15,
      "outputs": [
        {
          "output_type": "execute_result",
          "data": {
            "text/plain": [
              "tensor(25.9931)"
            ]
          },
          "metadata": {},
          "execution_count": 15
        }
      ]
    },
    {
      "cell_type": "markdown",
      "source": [
        "F.cross_entropy on logits and target does this calculation, giving the same loss when we calculate counts to -prob[torch.arange(32), target].log().mean() is calculated, but much quicker"
      ],
      "metadata": {
        "id": "Q6VOAwnAJyvh"
      }
    },
    {
      "cell_type": "code",
      "source": [
        "logit = torch.tensor([-5, 0, 3, 5]) + 6\n",
        "count = logit.exp()\n",
        "prob = count / count.sum()\n",
        "prob"
      ],
      "metadata": {
        "colab": {
          "base_uri": "https://localhost:8080/"
        },
        "id": "rwFWs5xvHQZW",
        "outputId": "bd8b9faa-7eee-4929-c4f2-327507005910"
      },
      "execution_count": 16,
      "outputs": [
        {
          "output_type": "execute_result",
          "data": {
            "text/plain": [
              "tensor([3.9751e-05, 5.8995e-03, 1.1849e-01, 8.7557e-01])"
            ]
          },
          "metadata": {},
          "execution_count": 16
        }
      ]
    },
    {
      "cell_type": "markdown",
      "source": [
        "Any constant we add to logits will still result in the same prob ...\n",
        "Let the logits be:\n",
        "$$\n",
        "\\text{logit} = \\begin{bmatrix} -5 \\\\ 0 \\\\ 3 \\\\ 5 \\end{bmatrix} + 6 = \\begin{bmatrix} 1 \\\\ 6 \\\\ 9 \\\\ 11 \\end{bmatrix}\n",
        "$$\n",
        "\n",
        "Exponentiated values:\n",
        "$$\n",
        "\\text{count} = \\exp(\\text{logit}) = \\begin{bmatrix} e^1 \\\\ e^6 \\\\ e^9 \\\\ e^{11} \\end{bmatrix}\n",
        "$$\n",
        "\n",
        "This Also Equals\n",
        "$$\n",
        "\\exp(\\text{logit}) = e^6 ⋅ \\begin{bmatrix} e^{-5} \\\\ e^0 \\\\ e^3 \\\\ e^{5} \\end{bmatrix}\n",
        "$$\n",
        "\n",
        "Normalized probabilities:\n",
        "$$\n",
        "\\text{prob} = \\frac{\\text{count}}{\\sum \\text{count}} = \\frac{e^6 \\cdot \\begin{bmatrix} e^{-5} \\\\ e^0 \\\\ e^3 \\\\ e^5 \\end{bmatrix}}{e^6 \\cdot (e^{-5} + e^0 + e^3 + e^5)}\n",
        "$$\n",
        "\n",
        "Further:\n",
        "$$\n",
        "\\text{prob} = \\frac{\\text{count}}{\\sum \\text{count}} = \\frac{\\begin{bmatrix} e^{-5} \\\\ e^0 \\\\ e^3 \\\\ e^5 \\end{bmatrix}}{e^{-5} + e^0 + e^3 + e^5} \\text{, Which is simply the normalization of our original tensor}\n",
        "$$\n",
        "\n",
        "Adding a constant to our logits does not change the probability tensor, given we don't go out of bounds when calculating exp. Negative numbers will be useful here, since if we have a overflowing number already in our logits, then it can overflow in counts, but if we offset by -max(logits) then we can can ensure no overflow, previously I was doing this calculation manually, but this is actually handled by F.cross_entropy"
      ],
      "metadata": {
        "id": "_YW6aJ4lHxN4"
      }
    },
    {
      "cell_type": "code",
      "source": [
        "# overflow example\n",
        "logit = torch.tensor([-5, 0, 3, 100])\n",
        "count = logit.exp()\n",
        "prob = count / count.sum()\n",
        "prob"
      ],
      "metadata": {
        "colab": {
          "base_uri": "https://localhost:8080/"
        },
        "id": "M9PTOBJdK3Do",
        "outputId": "38db6c30-5dc1-48bc-9d08-12ca6769a02f"
      },
      "execution_count": 26,
      "outputs": [
        {
          "output_type": "execute_result",
          "data": {
            "text/plain": [
              "tensor([0., 0., 0., nan])"
            ]
          },
          "metadata": {},
          "execution_count": 26
        }
      ]
    },
    {
      "cell_type": "code",
      "source": [
        "# fixing overflow\n",
        "logit = torch.tensor([-5, 0, 3, 100]) - logit.max()\n",
        "count = logit.exp()\n",
        "prob = count / count.sum()\n",
        "prob"
      ],
      "metadata": {
        "colab": {
          "base_uri": "https://localhost:8080/"
        },
        "id": "-FaWIdXPK7QW",
        "outputId": "8a6c9598-853c-4a14-907d-5fa85020ced9"
      },
      "execution_count": 27,
      "outputs": [
        {
          "output_type": "execute_result",
          "data": {
            "text/plain": [
              "tensor([0.0000e+00, 3.7835e-44, 7.4689e-43, 1.0000e+00])"
            ]
          },
          "metadata": {},
          "execution_count": 27
        }
      ]
    },
    {
      "cell_type": "code",
      "source": [
        "# further showing we can add any constant as long as we dont overflow\n",
        "logit = torch.tensor([-5, 0, 3, 100]) - logit.max() + 1\n",
        "count = logit.exp()\n",
        "prob = count / count.sum()\n",
        "prob"
      ],
      "metadata": {
        "colab": {
          "base_uri": "https://localhost:8080/"
        },
        "id": "HeER-lflLrG4",
        "outputId": "ad3618f1-087a-4918-e4da-b46196a68d4a"
      },
      "execution_count": 28,
      "outputs": [
        {
          "output_type": "execute_result",
          "data": {
            "text/plain": [
              "tensor([0., 0., 0., nan])"
            ]
          },
          "metadata": {},
          "execution_count": 28
        }
      ]
    },
    {
      "cell_type": "markdown",
      "source": [
        "Continuing"
      ],
      "metadata": {
        "id": "GJuutfNrJHuk"
      }
    },
    {
      "cell_type": "code",
      "source": [
        "Xtr.shape, Ytr.shape"
      ],
      "metadata": {
        "colab": {
          "base_uri": "https://localhost:8080/"
        },
        "id": "v0tvdKQq5V1A",
        "outputId": "ba95b0bf-11e1-45db-fa47-638fb4faa937"
      },
      "execution_count": 29,
      "outputs": [
        {
          "output_type": "execute_result",
          "data": {
            "text/plain": [
              "(torch.Size([182625, 3]), torch.Size([182625]))"
            ]
          },
          "metadata": {},
          "execution_count": 29
        }
      ]
    },
    {
      "cell_type": "code",
      "source": [
        "kaiming_init = (5/3) / ((n_emb * block_size) ** 0.5)"
      ],
      "metadata": {
        "id": "hGsbCyKDC_pC"
      },
      "execution_count": 52,
      "outputs": []
    },
    {
      "cell_type": "code",
      "source": [
        "C = torch.randn(vocab_size, n_emb)\n",
        "W1 = torch.randn((n_emb * block_size, n_hidden)) * kaiming_init # fixing saturated tanh, since it couldve been creating dead neurons at init\n",
        "B1 = torch.randn(n_hidden) * 0.01 # same ideology here\n",
        "W2 = torch.randn(n_hidden, vocab_size) * 0.01 # scaling down to get logits close to 0 at init\n",
        "B2 = torch.randn(vocab_size) * 0 # we dont want to add random numbers in logits at initilization\n",
        "params = [C, W1, B1, W2, B2]\n",
        "for p in params:\n",
        "  p.requires_grad = True"
      ],
      "metadata": {
        "id": "DWaNFZbAJHXu"
      },
      "execution_count": 60,
      "outputs": []
    },
    {
      "cell_type": "code",
      "source": [
        "batch_size = 32\n",
        "max_steps = 200_000\n",
        "lossi = []"
      ],
      "metadata": {
        "id": "z-Vn50SM8kYu"
      },
      "execution_count": 61,
      "outputs": []
    },
    {
      "cell_type": "code",
      "source": [
        "for i in range(max_steps):\n",
        "\n",
        "  # mini batches\n",
        "  ix = torch.randint(0, Xtr.shape[0], (batch_size,))\n",
        "  Xb, Yb = Xtr[ix], Ytr[ix]\n",
        "\n",
        "  # forward pass\n",
        "  emb = C[Xb]\n",
        "  embcat = emb.view(-1, block_size * n_emb)\n",
        "  preh = embcat @ W1 + B1\n",
        "  h = torch.tanh(preh)\n",
        "  logits = h @ W2 + B2\n",
        "  loss = F.cross_entropy(logits, Ytr[ix])\n",
        "\n",
        "  # reset grads\n",
        "  for p in params:\n",
        "    p.grad = None\n",
        "\n",
        "  # backward pass\n",
        "  loss.backward()\n",
        "\n",
        "  lr = 0.1\n",
        "  if i > 100_000:\n",
        "    lr = 0.01\n",
        "\n",
        "  for p in params:\n",
        "    p.data += p.grad * -lr\n",
        "\n",
        "  lossi.append(loss.log10().item())\n",
        "\n",
        "  if i % 10000 == 0:\n",
        "    print(f'{i:7d}/{max_steps:7d}: {loss.item():.4f}')\n",
        "\n",
        "  #break # for debugging\n",
        "print(\"200000/200000: \", loss.item())"
      ],
      "metadata": {
        "colab": {
          "base_uri": "https://localhost:8080/"
        },
        "id": "7pmuKEo6JMii",
        "outputId": "6b6d471c-529c-44e3-8a61-6a4e61d86d9e"
      },
      "execution_count": 62,
      "outputs": [
        {
          "output_type": "stream",
          "name": "stdout",
          "text": [
            "      0/ 200000: 3.3055\n",
            "  10000/ 200000: 2.2925\n",
            "  20000/ 200000: 2.3678\n",
            "  30000/ 200000: 2.1768\n",
            "  40000/ 200000: 1.9915\n",
            "  50000/ 200000: 2.1276\n",
            "  60000/ 200000: 1.9003\n",
            "  70000/ 200000: 2.0838\n",
            "  80000/ 200000: 2.0673\n",
            "  90000/ 200000: 2.1621\n",
            " 100000/ 200000: 2.0291\n",
            " 110000/ 200000: 2.0299\n",
            " 120000/ 200000: 2.2927\n",
            " 130000/ 200000: 1.9569\n",
            " 140000/ 200000: 1.8245\n",
            " 150000/ 200000: 2.0251\n",
            " 160000/ 200000: 2.3985\n",
            " 170000/ 200000: 1.7380\n",
            " 180000/ 200000: 2.1442\n",
            " 190000/ 200000: 1.8490\n",
            "200000/200000:  2.0889031887054443\n"
          ]
        }
      ]
    },
    {
      "cell_type": "code",
      "source": [
        "plt.plot(lossi) # before optimization"
      ],
      "metadata": {
        "colab": {
          "base_uri": "https://localhost:8080/",
          "height": 447
        },
        "id": "S6WanWKg6jeT",
        "outputId": "ccb52945-19a1-47d1-faf8-9150d94b1300"
      },
      "execution_count": 34,
      "outputs": [
        {
          "output_type": "execute_result",
          "data": {
            "text/plain": [
              "[<matplotlib.lines.Line2D at 0x7d9919e5d850>]"
            ]
          },
          "metadata": {},
          "execution_count": 34
        },
        {
          "output_type": "display_data",
          "data": {
            "text/plain": [
              "<Figure size 640x480 with 1 Axes>"
            ],
            "image/png": "[encoded data removed]"
          },
          "metadata": {}
        }
      ]
    },
    {
      "cell_type": "code",
      "source": [
        "# after\n",
        "plt.plot(lossi) # no hockey stick"
      ],
      "metadata": {
        "colab": {
          "base_uri": "https://localhost:8080/",
          "height": 447
        },
        "id": "cXp1x-qr9sd8",
        "outputId": "6674a04d-b162-49a6-9068-d1574abbb4a5"
      },
      "execution_count": 33,
      "outputs": [
        {
          "output_type": "execute_result",
          "data": {
            "text/plain": [
              "[<matplotlib.lines.Line2D at 0x7e3009bf1310>]"
            ]
          },
          "metadata": {},
          "execution_count": 33
        },
        {
          "output_type": "display_data",
          "data": {
            "text/plain": [
              "<Figure size 640x480 with 1 Axes>"
            ],
            "image/png": "[encoded data removed]"
          },
          "metadata": {}
        }
      ]
    },
    {
      "cell_type": "code",
      "source": [
        "@torch.no_grad() #decorator to disable grad tracking during eval in the function context\n",
        "def split_loss(split):\n",
        "  x, y = {\n",
        "    'train': (Xtr, Ytr),\n",
        "    'val': (Xval, Yval),\n",
        "    'test': (Xtest, Ytest),\n",
        "  }[split]\n",
        "\n",
        "  emb = C[x]\n",
        "  embcat = emb.view(-1, block_size * n_emb)\n",
        "  h = torch.tanh(embcat @ W1 + B1)\n",
        "  logits = h @ W2 + B2\n",
        "  loss = F\n",
        "  return F.cross_entropy(logits, y).item()"
      ],
      "metadata": {
        "id": "2TdWL0ElM54E"
      },
      "execution_count": 63,
      "outputs": []
    },
    {
      "cell_type": "code",
      "source": [
        "print(split_loss('train'))\n",
        "print(split_loss('val'))"
      ],
      "metadata": {
        "colab": {
          "base_uri": "https://localhost:8080/"
        },
        "id": "7EdlpOUnNHSU",
        "outputId": "85bf35f2-c4ab-4ff3-b9d7-eb3c921d5e87"
      },
      "execution_count": 64,
      "outputs": [
        {
          "output_type": "stream",
          "name": "stdout",
          "text": [
            "2.038160800933838\n",
            "2.105576753616333\n"
          ]
        }
      ]
    },
    {
      "cell_type": "code",
      "source": [
        "# sampling from model\n",
        "\n",
        "for _ in range(20):\n",
        "\n",
        "  out = []\n",
        "  context = [0] * block_size\n",
        "\n",
        "  while True:\n",
        "    emb = C[torch.tensor([context])]\n",
        "    h = torch.tanh(emb.view(1, -1) @ W1 + B1)\n",
        "    logits = h @ W2 + B2\n",
        "    probs = F.softmax(logits, dim=1)\n",
        "    ix = torch.multinomial(probs, num_samples=1).item()\n",
        "    context = context[1:] + [ix]\n",
        "    out.append(ix)\n",
        "    if ix == 0:\n",
        "      break\n",
        "\n",
        "  print(''.join(itoc[i] for i in out))"
      ],
      "metadata": {
        "colab": {
          "base_uri": "https://localhost:8080/"
        },
        "id": "JdETO69j-YhL",
        "outputId": "3335086c-ffd8-48de-ec79-15e2862c1bbb"
      },
      "execution_count": 100,
      "outputs": [
        {
          "output_type": "stream",
          "name": "stdout",
          "text": [
            "jaydella.\n",
            "laya.\n",
            "sleenoz.\n",
            "aitya.\n",
            "ailenys.\n",
            "mailyn.\n",
            "tey.\n",
            "karrah.\n",
            "samayana.\n",
            "devanna.\n",
            "atjoslit.\n",
            "conton.\n",
            "khammariangelda.\n",
            "unacearia.\n",
            "yillille.\n",
            "zen.\n",
            "popper.\n",
            "oui.\n",
            "dmir.\n",
            "dedero.\n"
          ]
        }
      ]
    }
  ]
}