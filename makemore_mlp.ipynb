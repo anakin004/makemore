{
  "nbformat": 4,
  "nbformat_minor": 0,
  "metadata": {
    "colab": {
      "provenance": [],
      "authorship_tag": "ABX9TyMWsNMJsvfAaEqxpP/zug+9"
    },
    "kernelspec": {
      "name": "python3",
      "display_name": "Python 3"
    },
    "language_info": {
      "name": "python"
    }
  },
  "cells": [
    {
      "cell_type": "code",
      "execution_count": 1,
      "metadata": {
        "id": "5ZuaZUp5oJh8"
      },
      "outputs": [],
      "source": [
        "import torch.nn.functional as F\n",
        "import matplotlib.pyplot as plt\n",
        "import numpy as np\n",
        "import kagglehub\n",
        "import torch\n",
        "import os\n",
        "%matplotlib inline"
      ]
    },
    {
      "cell_type": "code",
      "source": [
        "def download_dataset() -> str:\n",
        "    path = kagglehub.dataset_download(\"rishitjakharia/names-txt\")\n",
        "    return path # for easier access later"
      ],
      "metadata": {
        "id": "g44jFQs2qCGl"
      },
      "execution_count": 2,
      "outputs": []
    },
    {
      "cell_type": "code",
      "source": [
        "dataset_path = download_dataset() + \"/names.txt\""
      ],
      "metadata": {
        "id": "MA9H16s-qPXT"
      },
      "execution_count": 95,
      "outputs": []
    },
    {
      "cell_type": "code",
      "source": [
        "words = open(dataset_path, 'r').read().splitlines()"
      ],
      "metadata": {
        "id": "VYqGvxdiqWwr"
      },
      "execution_count": 96,
      "outputs": []
    },
    {
      "cell_type": "code",
      "source": [
        "def make_int_char_maps() -> tuple[dict, dict]:\n",
        "  chars = sorted(list(set(''.join(words))))\n",
        "  ctoi = {c: i + 1 for i, c in enumerate(chars)}\n",
        "  ctoi['.'] = 0\n",
        "  itoc = {i: c for c, i in ctoi.items()}\n",
        "  return ctoi, itoc"
      ],
      "metadata": {
        "id": "K2-SWXb-qnq7"
      },
      "execution_count": 97,
      "outputs": []
    },
    {
      "cell_type": "code",
      "source": [
        "ctoi, itoc = make_int_char_maps()"
      ],
      "metadata": {
        "id": "RdXYrtwBq5sT"
      },
      "execution_count": 98,
      "outputs": []
    },
    {
      "cell_type": "code",
      "source": [
        "print(itoc)"
      ],
      "metadata": {
        "colab": {
          "base_uri": "https://localhost:8080/"
        },
        "id": "niQbCUjPrAuD",
        "outputId": "bcac4abe-5bcb-4cc7-9b3f-bb3637a59bcf"
      },
      "execution_count": 7,
      "outputs": [
        {
          "output_type": "stream",
          "name": "stdout",
          "text": [
            "{1: 'a', 2: 'b', 3: 'c', 4: 'd', 5: 'e', 6: 'f', 7: 'g', 8: 'h', 9: 'i', 10: 'j', 11: 'k', 12: 'l', 13: 'm', 14: 'n', 15: 'o', 16: 'p', 17: 'q', 18: 'r', 19: 's', 20: 't', 21: 'u', 22: 'v', 23: 'w', 24: 'x', 25: 'y', 26: 'z', 0: '.'}\n"
          ]
        }
      ]
    },
    {
      "cell_type": "code",
      "source": [
        "print(ctoi)"
      ],
      "metadata": {
        "colab": {
          "base_uri": "https://localhost:8080/"
        },
        "id": "4t-Rs9ExvDw2",
        "outputId": "6e8ec782-0077-4ac0-e653-ac50eb7c1ec9"
      },
      "execution_count": 8,
      "outputs": [
        {
          "output_type": "stream",
          "name": "stdout",
          "text": [
            "{'a': 1, 'b': 2, 'c': 3, 'd': 4, 'e': 5, 'f': 6, 'g': 7, 'h': 8, 'i': 9, 'j': 10, 'k': 11, 'l': 12, 'm': 13, 'n': 14, 'o': 15, 'p': 16, 'q': 17, 'r': 18, 's': 19, 't': 20, 'u': 21, 'v': 22, 'w': 23, 'x': 24, 'y': 25, 'z': 26, '.': 0}\n"
          ]
        }
      ]
    },
    {
      "cell_type": "code",
      "source": [
        "def build_dataset(inp_words) -> tuple[torch.tensor, torch.tensor]:\n",
        "\n",
        "  block_size = 3 # context length -> how many chars does it take to predict the next\n",
        "  inp, target = [], []\n",
        "  for w in inp_words:\n",
        "    context = [0] * block_size\n",
        "\n",
        "    for ch in w + '.':\n",
        "      ix = ctoi[ch]\n",
        "      inp.append(context)\n",
        "      target.append(ix)\n",
        "      context = context[1:] + [ix] # crop and append\n",
        "\n",
        "  inp = torch.tensor(inp)\n",
        "  target = torch.tensor(target)\n",
        "  return inp, target"
      ],
      "metadata": {
        "id": "jJqoPknQvJ2N"
      },
      "execution_count": 146,
      "outputs": []
    },
    {
      "cell_type": "code",
      "source": [
        "import random\n",
        "random.seed(42)\n",
        "random.shuffle(words)\n",
        "\n",
        "n1 = int(0.8*len(words))\n",
        "n2 = int(0.9*len(words))\n",
        "\n",
        "Xtr, Ytr = build_dataset(words[:n1])\n",
        "Xval, Yval = build_dataset(words[n1:n2])\n",
        "Xtest, Ytest = build_dataset(words[n2:])"
      ],
      "metadata": {
        "id": "ImgmzsGI4ccX"
      },
      "execution_count": 147,
      "outputs": []
    },
    {
      "cell_type": "code",
      "source": [
        "Xtr.shape, Xval.shape, Xtest.shape"
      ],
      "metadata": {
        "colab": {
          "base_uri": "https://localhost:8080/"
        },
        "id": "andw8kRg5BgO",
        "outputId": "1641fe62-5a7c-4b5a-996e-0506d9e9ec43"
      },
      "execution_count": 148,
      "outputs": [
        {
          "output_type": "execute_result",
          "data": {
            "text/plain": [
              "(torch.Size([182625, 3]), torch.Size([22655, 3]), torch.Size([22866, 3]))"
            ]
          },
          "metadata": {},
          "execution_count": 148
        }
      ]
    },
    {
      "cell_type": "code",
      "source": [
        "inp, target = build_dataset(words)"
      ],
      "metadata": {
        "id": "M1sfcaPUvugF"
      },
      "execution_count": 101,
      "outputs": []
    },
    {
      "cell_type": "code",
      "source": [
        "inp.shape, target.shape, inp.dtype, target.dtype"
      ],
      "metadata": {
        "colab": {
          "base_uri": "https://localhost:8080/"
        },
        "id": "_0H48XDAw6pF",
        "outputId": "cb4dd472-5937-43cf-eb77-19c7a450d492"
      },
      "execution_count": 102,
      "outputs": [
        {
          "output_type": "execute_result",
          "data": {
            "text/plain": [
              "(torch.Size([228146, 3]), torch.Size([228146]), torch.int64, torch.int64)"
            ]
          },
          "metadata": {},
          "execution_count": 102
        }
      ]
    },
    {
      "cell_type": "code",
      "source": [
        "C = torch.randn(27, 2) # 27 characters mapping to a 2d vector embedding`"
      ],
      "metadata": {
        "id": "4kGCz2qwzO7h"
      },
      "execution_count": 103,
      "outputs": []
    },
    {
      "cell_type": "code",
      "source": [
        "C[5]"
      ],
      "metadata": {
        "colab": {
          "base_uri": "https://localhost:8080/"
        },
        "id": "2L9q2jaQyDo7",
        "outputId": "10293408-538e-493e-9818-a7d0da88aa86"
      },
      "execution_count": 104,
      "outputs": [
        {
          "output_type": "execute_result",
          "data": {
            "text/plain": [
              "tensor([-2.2621, -1.0324])"
            ]
          },
          "metadata": {},
          "execution_count": 104
        }
      ]
    },
    {
      "cell_type": "code",
      "source": [
        "(F.one_hot(torch.tensor(5), num_classes=27).float() @ C) # one hot allows us to pluck out a desired row\n",
        "                                                         # however, notice its the same as indexing, so this wont be used"
      ],
      "metadata": {
        "colab": {
          "base_uri": "https://localhost:8080/"
        },
        "id": "PkqeYAHGxUOj",
        "outputId": "ee59fa92-2064-46e0-e215-70b9e6df4f7c"
      },
      "execution_count": 105,
      "outputs": [
        {
          "output_type": "execute_result",
          "data": {
            "text/plain": [
              "tensor([-2.2621, -1.0324])"
            ]
          },
          "metadata": {},
          "execution_count": 105
        }
      ]
    },
    {
      "cell_type": "markdown",
      "source": [
        "inp contains contexts, defined in build dataset above\n",
        "each context contains index mappings from ctoi.\n",
        "these allow us to access embeddings in C.\n",
        "we can index into C efficienty with the help of PyTorch"
      ],
      "metadata": {
        "id": "sYTSkiT82Vgn"
      }
    },
    {
      "cell_type": "code",
      "source": [
        "C[inp].shape"
      ],
      "metadata": {
        "colab": {
          "base_uri": "https://localhost:8080/"
        },
        "id": "FberbX73zJ3a",
        "outputId": "bf8ccc0e-600c-43c5-ae6a-71088d8bee58"
      },
      "execution_count": 106,
      "outputs": [
        {
          "output_type": "execute_result",
          "data": {
            "text/plain": [
              "torch.Size([228146, 3, 2])"
            ]
          },
          "metadata": {},
          "execution_count": 106
        }
      ]
    },
    {
      "cell_type": "code",
      "source": [
        "emb = C[inp]"
      ],
      "metadata": {
        "id": "XWXADcbw2_Fj"
      },
      "execution_count": 107,
      "outputs": []
    },
    {
      "cell_type": "code",
      "source": [
        "W1 = torch.randn((6, 100)) # this is our hiddem layer, recieving 6 inputs, since each input has three characters, each having two elements\n",
        "B1 = torch.randn(100) # 100 biases for each weight"
      ],
      "metadata": {
        "id": "tgpQBgFp2En3"
      },
      "execution_count": 108,
      "outputs": []
    },
    {
      "cell_type": "code",
      "source": [
        "h = torch.tanh(emb.view(-1, 6) @ W1 + B1)"
      ],
      "metadata": {
        "id": "wV_f27LP0isl"
      },
      "execution_count": 109,
      "outputs": []
    },
    {
      "cell_type": "code",
      "source": [
        "h"
      ],
      "metadata": {
        "colab": {
          "base_uri": "https://localhost:8080/"
        },
        "id": "bMo7jzfs3Z4I",
        "outputId": "d298d7bb-b811-455c-825d-bfd1aeb70cb1"
      },
      "execution_count": 110,
      "outputs": [
        {
          "output_type": "execute_result",
          "data": {
            "text/plain": [
              "tensor([[-0.1989,  0.9932,  0.8712,  ..., -0.3587,  0.9825,  0.0671],\n",
              "        [-0.7556,  0.9890,  0.5291,  ..., -0.9993,  0.9179,  0.7073],\n",
              "        [ 0.9972,  0.6793, -1.0000,  ..., -0.8393,  0.9959,  0.7883],\n",
              "        ...,\n",
              "        [ 0.8385, -0.7110, -0.9753,  ...,  0.9996, -0.8710, -0.9990],\n",
              "        [-0.9909,  0.9841,  1.0000,  ..., -0.1176, -0.9332, -0.3188],\n",
              "        [ 0.9999,  0.9999,  0.8939,  ..., -0.6507,  0.9907,  0.0214]])"
            ]
          },
          "metadata": {},
          "execution_count": 110
        }
      ]
    },
    {
      "cell_type": "code",
      "source": [
        "W2 = torch.randn(100, 27)\n",
        "B2 = torch.randn(27)"
      ],
      "metadata": {
        "id": "JSh1u3lk3ayF"
      },
      "execution_count": 114,
      "outputs": []
    },
    {
      "cell_type": "code",
      "source": [
        "logits = h @ W2 + B2"
      ],
      "metadata": {
        "id": "iK8nE4re3kiB"
      },
      "execution_count": 115,
      "outputs": []
    },
    {
      "cell_type": "code",
      "source": [
        "counts = logits.exp()"
      ],
      "metadata": {
        "id": "Ny_-MBnc3nNI"
      },
      "execution_count": 116,
      "outputs": []
    },
    {
      "cell_type": "code",
      "source": [
        "probs = counts / counts.sum(1, keepdim=True)"
      ],
      "metadata": {
        "id": "I9GktJTP3qXY"
      },
      "execution_count": 117,
      "outputs": []
    },
    {
      "cell_type": "code",
      "source": [
        "probs[torch.arange(inp.shape[0]), target] # the probabilties for our target characters for each input"
      ],
      "metadata": {
        "colab": {
          "base_uri": "https://localhost:8080/"
        },
        "id": "0-S4hsQh3xov",
        "outputId": "c254297b-4159-40ea-eb31-6da6f8e15b61"
      },
      "execution_count": 120,
      "outputs": [
        {
          "output_type": "execute_result",
          "data": {
            "text/plain": [
              "tensor([7.4721e-05, 2.1083e-10, 1.8727e-09,  ..., 2.4234e-05, 1.8780e-17,\n",
              "        1.3458e-15])"
            ]
          },
          "metadata": {},
          "execution_count": 120
        }
      ]
    },
    {
      "cell_type": "code",
      "source": [
        "loss = -probs[torch.arange(inp.shape[0]), target].log().mean()"
      ],
      "metadata": {
        "id": "KTQFEIrx8X5c"
      },
      "execution_count": 122,
      "outputs": []
    },
    {
      "cell_type": "code",
      "source": [
        "loss.item()"
      ],
      "metadata": {
        "colab": {
          "base_uri": "https://localhost:8080/"
        },
        "id": "WbUXlXdv8bs7",
        "outputId": "18733db5-96f6-47a7-ced9-fe3f863cb320"
      },
      "execution_count": 123,
      "outputs": [
        {
          "output_type": "execute_result",
          "data": {
            "text/plain": [
              "14.291122436523438"
            ]
          },
          "metadata": {},
          "execution_count": 123
        }
      ]
    },
    {
      "cell_type": "markdown",
      "source": [
        "Now altogether"
      ],
      "metadata": {
        "id": "s5bPj1uA9H0d"
      }
    },
    {
      "cell_type": "code",
      "source": [
        "W1 = torch.randn((6, 100))\n",
        "B1 = torch.randn(100)\n",
        "W2 = torch.randn(100, 27)\n",
        "B2 = torch.randn(27)\n",
        "params = [C, W1, B1, W2, B2]"
      ],
      "metadata": {
        "id": "nREQ1NCc9KRm"
      },
      "execution_count": 124,
      "outputs": []
    },
    {
      "cell_type": "code",
      "source": [
        "sum(p.nelement() for p in params ) # number of parameters"
      ],
      "metadata": {
        "colab": {
          "base_uri": "https://localhost:8080/"
        },
        "id": "8F3OeE-E9qJR",
        "outputId": "e00c824b-687a-4d2a-9b46-1d4a8f644b29"
      },
      "execution_count": 125,
      "outputs": [
        {
          "output_type": "execute_result",
          "data": {
            "text/plain": [
              "3481"
            ]
          },
          "metadata": {},
          "execution_count": 125
        }
      ]
    },
    {
      "cell_type": "code",
      "source": [
        "emb = C[inp]\n",
        "h = torch.tanh(emb.view(-1, 6) @ W1 + B1)\n",
        "logits = h @ W2 + B2\n",
        "counts = logits.exp()\n",
        "probs = counts / counts.sum(1, keepdim=True)\n",
        "loss = -probs[torch.arange(inp.shape[0]), target].log().mean()"
      ],
      "metadata": {
        "id": "hYCvnMC299cw"
      },
      "execution_count": 127,
      "outputs": []
    },
    {
      "cell_type": "code",
      "source": [
        "loss # this loss is different from above because we initialize new random weights and biases"
      ],
      "metadata": {
        "colab": {
          "base_uri": "https://localhost:8080/"
        },
        "id": "jAdWXfJM-oPU",
        "outputId": "f27ab935-7af1-41fb-98e3-36d4c004fd21"
      },
      "execution_count": 128,
      "outputs": [
        {
          "output_type": "execute_result",
          "data": {
            "text/plain": [
              "tensor(15.9430)"
            ]
          },
          "metadata": {},
          "execution_count": 128
        }
      ]
    },
    {
      "cell_type": "markdown",
      "source": [
        "F.cross_entropy on logits and target does this calculation, giving the same loss when we calculate counts to -prob[torch.arange(32), target].log().mean() is calculated, but much quicker"
      ],
      "metadata": {
        "id": "Q6VOAwnAJyvh"
      }
    },
    {
      "cell_type": "code",
      "source": [
        "logit = torch.tensor([-5, 0, 3, 5]) + 6\n",
        "count = logit.exp()\n",
        "prob = count / count.sum()\n",
        "prob"
      ],
      "metadata": {
        "colab": {
          "base_uri": "https://localhost:8080/"
        },
        "id": "rwFWs5xvHQZW",
        "outputId": "7f943bbc-b6f8-431e-b306-316581ee6a2a"
      },
      "execution_count": 129,
      "outputs": [
        {
          "output_type": "execute_result",
          "data": {
            "text/plain": [
              "tensor([3.9751e-05, 5.8995e-03, 1.1849e-01, 8.7557e-01])"
            ]
          },
          "metadata": {},
          "execution_count": 129
        }
      ]
    },
    {
      "cell_type": "markdown",
      "source": [
        "Any constant we add to logits will still result in the same prob ...\n",
        "Let the logits be:\n",
        "$$\n",
        "\\text{logit} = \\begin{bmatrix} -5 \\\\ 0 \\\\ 3 \\\\ 5 \\end{bmatrix} + 6 = \\begin{bmatrix} 1 \\\\ 6 \\\\ 9 \\\\ 11 \\end{bmatrix}\n",
        "$$\n",
        "\n",
        "Exponentiated values:\n",
        "$$\n",
        "\\text{count} = \\exp(\\text{logit}) = \\begin{bmatrix} e^1 \\\\ e^6 \\\\ e^9 \\\\ e^{11} \\end{bmatrix}\n",
        "$$\n",
        "\n",
        "This Also Equals\n",
        "$$\n",
        "\\exp(\\text{logit}) = e^6 ⋅ \\begin{bmatrix} e^{-5} \\\\ e^0 \\\\ e^3 \\\\ e^{5} \\end{bmatrix}\n",
        "$$\n",
        "\n",
        "Normalized probabilities:\n",
        "$$\n",
        "\\text{prob} = \\frac{\\text{count}}{\\sum \\text{count}} = \\frac{e^6 \\cdot \\begin{bmatrix} e^{-5} \\\\ e^0 \\\\ e^3 \\\\ e^5 \\end{bmatrix}}{e^6 \\cdot (e^{-5} + e^0 + e^3 + e^5)}\n",
        "$$\n",
        "\n",
        "Further:\n",
        "$$\n",
        "\\text{prob} = \\frac{\\text{count}}{\\sum \\text{count}} = \\frac{\\begin{bmatrix} e^{-5} \\\\ e^0 \\\\ e^3 \\\\ e^5 \\end{bmatrix}}{e^{-5} + e^0 + e^3 + e^5} \\text{, Which is simply the normalization of our original tensor}\n",
        "$$\n",
        "\n",
        "Adding a constant to our logits does not change the probability tensor, given we don't go out of bounds when calculating exp. Negative numbers will be useful here, since if we have a overflowing number already in our logits, then it can overflow in counts, but if we offset by -max(logits) then we can can ensure no overflow, previously I was doing this calculation manually, but this is actually handled by F.cross_entropy"
      ],
      "metadata": {
        "id": "_YW6aJ4lHxN4"
      }
    },
    {
      "cell_type": "code",
      "source": [
        "# overflow example\n",
        "logit = torch.tensor([-5, 0, 3, 100])\n",
        "count = logit.exp()\n",
        "prob = count / count.sum()\n",
        "prob"
      ],
      "metadata": {
        "colab": {
          "base_uri": "https://localhost:8080/"
        },
        "id": "M9PTOBJdK3Do",
        "outputId": "075b05e1-ffc2-4944-d4cd-2e25ec0b9f83"
      },
      "execution_count": 119,
      "outputs": [
        {
          "output_type": "execute_result",
          "data": {
            "text/plain": [
              "tensor([0., 0., 0., nan])"
            ]
          },
          "metadata": {},
          "execution_count": 119
        }
      ]
    },
    {
      "cell_type": "code",
      "source": [
        "# fixing overflow\n",
        "logit = torch.tensor([-5, 0, 3, 100]) - logit.max()\n",
        "count = logit.exp()\n",
        "prob = count / count.sum()\n",
        "prob"
      ],
      "metadata": {
        "colab": {
          "base_uri": "https://localhost:8080/"
        },
        "id": "-FaWIdXPK7QW",
        "outputId": "54a1af06-dd56-4a1b-d2a4-dc6000d9aabe"
      },
      "execution_count": 120,
      "outputs": [
        {
          "output_type": "execute_result",
          "data": {
            "text/plain": [
              "tensor([0.0000e+00, 3.7835e-44, 7.4689e-43, 1.0000e+00])"
            ]
          },
          "metadata": {},
          "execution_count": 120
        }
      ]
    },
    {
      "cell_type": "code",
      "source": [
        "# further showing we can add any constant as long as we dont overflow\n",
        "logit = torch.tensor([-5, 0, 3, 100]) - logit.max() + 1\n",
        "count = logit.exp()\n",
        "prob = count / count.sum()\n",
        "prob"
      ],
      "metadata": {
        "colab": {
          "base_uri": "https://localhost:8080/"
        },
        "id": "HeER-lflLrG4",
        "outputId": "adb91bc6-a86d-4af6-a29f-7bc89bb5c412"
      },
      "execution_count": 138,
      "outputs": [
        {
          "output_type": "execute_result",
          "data": {
            "text/plain": [
              "tensor([0.0000e+00, 3.7835e-44, 7.4689e-43, 1.0000e+00])"
            ]
          },
          "metadata": {},
          "execution_count": 138
        }
      ]
    },
    {
      "cell_type": "markdown",
      "source": [
        "Continuing"
      ],
      "metadata": {
        "id": "GJuutfNrJHuk"
      }
    },
    {
      "cell_type": "code",
      "source": [
        "Xtr.shape, Ytr.shape"
      ],
      "metadata": {
        "colab": {
          "base_uri": "https://localhost:8080/"
        },
        "id": "v0tvdKQq5V1A",
        "outputId": "ef5e8bca-67cc-47cc-914b-505a8990160c"
      },
      "execution_count": 149,
      "outputs": [
        {
          "output_type": "execute_result",
          "data": {
            "text/plain": [
              "(torch.Size([182625, 3]), torch.Size([182625]))"
            ]
          },
          "metadata": {},
          "execution_count": 149
        }
      ]
    },
    {
      "cell_type": "code",
      "source": [
        "C = torch.randn(27, 10)\n",
        "W1 = torch.randn((30, 200)) # network\n",
        "B1 = torch.randn(200)\n",
        "W2 = torch.randn(200, 27)\n",
        "B2 = torch.randn(27)\n",
        "params = [C, W1, B1, W2, B2]\n",
        "for p in params:\n",
        "  p.requires_grad = True"
      ],
      "metadata": {
        "id": "DWaNFZbAJHXu"
      },
      "execution_count": 167,
      "outputs": []
    },
    {
      "cell_type": "code",
      "source": [
        "lre = torch.linspace(-3, 0, 1000)\n",
        "lrs = 10**lre\n",
        "plt.plot(lrs)"
      ],
      "metadata": {
        "id": "cyy1J1tOyJTe"
      },
      "execution_count": null,
      "outputs": []
    },
    {
      "cell_type": "code",
      "source": [
        "#plt.plot(lri, lossi)"
      ],
      "metadata": {
        "colab": {
          "base_uri": "https://localhost:8080/",
          "height": 447
        },
        "id": "aL6EDrDgxA6l",
        "outputId": "364437fb-5763-40bf-8092-ffa23f86a003"
      },
      "execution_count": 135,
      "outputs": [
        {
          "output_type": "execute_result",
          "data": {
            "text/plain": [
              "[<matplotlib.lines.Line2D at 0x7b20e0e76cd0>]"
            ]
          },
          "metadata": {},
          "execution_count": 135
        },
        {
          "output_type": "display_data",
          "data": {
            "text/plain": [
              "<Figure size 640x480 with 1 Axes>"
            ],
            "image/png": "[encoded data removed]"
          },
          "metadata": {}
        }
      ]
    },
    {
      "cell_type": "code",
      "source": [
        "lri = []\n",
        "lossi = []\n",
        "stepi = []\n"
      ],
      "metadata": {
        "id": "z-Vn50SM8kYu"
      },
      "execution_count": 168,
      "outputs": []
    },
    {
      "cell_type": "code",
      "source": [
        "for i in range(20_000):\n",
        "\n",
        "  # mini batches\n",
        "  ix = torch.randint(0, Xtr.shape[0], (32,))\n",
        "\n",
        "  # forward pass\n",
        "  emb = C[Xtr][ix]\n",
        "  h = torch.tanh(emb.view(-1, 30) @ W1 + B1)\n",
        "  logits = h @ W2 + B2\n",
        "  loss = F.cross_entropy(logits, Ytr[ix])\n",
        "\n",
        "  # reset grads\n",
        "  for p in params:\n",
        "    p.grad = None\n",
        "\n",
        "  # backward pass\n",
        "  loss.backward()\n",
        "\n",
        "  lr = 0.01\n",
        "  for p in params:\n",
        "    p.data += p.grad * -lr\n",
        "\n",
        "  #lri.append(lre[i])\n",
        "  lossi.append(loss.log10().item())\n",
        "  stepi.append(i)\n",
        "\n",
        "print(loss.item())"
      ],
      "metadata": {
        "colab": {
          "base_uri": "https://localhost:8080/"
        },
        "id": "7pmuKEo6JMii",
        "outputId": "0c743125-f050-4c10-e183-8a3987a5c911"
      },
      "execution_count": 183,
      "outputs": [
        {
          "output_type": "stream",
          "name": "stdout",
          "text": [
            "2.1291821002960205\n"
          ]
        }
      ]
    },
    {
      "cell_type": "code",
      "source": [
        "plt.plot(stepi, lossi)"
      ],
      "metadata": {
        "colab": {
          "base_uri": "https://localhost:8080/",
          "height": 447
        },
        "id": "S6WanWKg6jeT",
        "outputId": "ed2f8aa4-e57f-4fe8-c288-149b30b770e1"
      },
      "execution_count": 184,
      "outputs": [
        {
          "output_type": "execute_result",
          "data": {
            "text/plain": [
              "[<matplotlib.lines.Line2D at 0x7b20be9bdd50>]"
            ]
          },
          "metadata": {},
          "execution_count": 184
        },
        {
          "output_type": "display_data",
          "data": {
            "text/plain": [
              "<Figure size 640x480 with 1 Axes>"
            ],
            "image/png": "[encoded data removed]"
          },
          "metadata": {}
        }
      ]
    },
    {
      "cell_type": "code",
      "source": [
        "# loss on dataset\n",
        "emb = C[Xval]\n",
        "h = torch.tanh(emb.view(-1, 30) @ W1 + B1)\n",
        "logits = h @ W2 + B2\n",
        "loss = F.cross_entropy(logits, Yval)\n",
        "loss.item()"
      ],
      "metadata": {
        "colab": {
          "base_uri": "https://localhost:8080/"
        },
        "id": "tPSFg0dk21kT",
        "outputId": "541d71a7-c06c-4e95-8045-570f0a83515c"
      },
      "execution_count": 185,
      "outputs": [
        {
          "output_type": "execute_result",
          "data": {
            "text/plain": [
              "2.2647359371185303"
            ]
          },
          "metadata": {},
          "execution_count": 185
        }
      ]
    },
    {
      "cell_type": "code",
      "source": [
        "emb = C[Xtr]\n",
        "h = torch.tanh(emb.view(-1, 30) @ W1 + B1)\n",
        "logits = h @ W2 + B2\n",
        "loss = F.cross_entropy(logits, Ytr)\n",
        "loss.item()"
      ],
      "metadata": {
        "colab": {
          "base_uri": "https://localhost:8080/"
        },
        "id": "JfiQ7B6L5_BP",
        "outputId": "43644199-1247-468d-a23f-c74c7dfe6418"
      },
      "execution_count": 186,
      "outputs": [
        {
          "output_type": "execute_result",
          "data": {
            "text/plain": [
              "2.253598690032959"
            ]
          },
          "metadata": {},
          "execution_count": 186
        }
      ]
    },
    {
      "cell_type": "code",
      "source": [
        "# embeddings\n",
        "plt.figure(figsize=(8, 8))\n",
        "plt.scatter(C[:, 0].data, C[:, 1].data, s=200)\n",
        "for i in range(C.shape[0]):\n",
        "  plt.text(C[i, 0].item(), C[i, 1].item(), itoc[i], ha='center', va='center', color='white')\n",
        "plt.grid('minor')"
      ],
      "metadata": {
        "colab": {
          "base_uri": "https://localhost:8080/",
          "height": 676
        },
        "id": "2Ro0ztqE7sbs",
        "outputId": "201cf92a-020a-4988-bfdb-330bc3a6801e"
      },
      "execution_count": 187,
      "outputs": [
        {
          "output_type": "display_data",
          "data": {
            "text/plain": [
              "<Figure size 800x800 with 1 Axes>"
            ],
            "image/png": "[encoded data removed]"
          },
          "metadata": {}
        }
      ]
    },
    {
      "cell_type": "code",
      "source": [
        "# sampling from model\n",
        "\n",
        "block_size = 3\n",
        "\n",
        "for _ in range(20):\n",
        "\n",
        "  out = []\n",
        "  context = [0] * block_size\n",
        "\n",
        "  while True:\n",
        "    emb = C[torch.tensor([context])]\n",
        "    h = torch.tanh(emb.view(1, -1) @ W1 + B1)\n",
        "    logits = h @ W2 + B2\n",
        "    probs = F.softmax(logits, dim=1)\n",
        "    ix = torch.multinomial(probs, num_samples=1).item()\n",
        "    context = context[1:] + [ix]\n",
        "    out.append(ix)\n",
        "    if ix == 0:\n",
        "      break\n",
        "\n",
        "  print(''.join(itoc[i] for i in out))"
      ],
      "metadata": {
        "colab": {
          "base_uri": "https://localhost:8080/"
        },
        "id": "JdETO69j-YhL",
        "outputId": "5a28f46a-0638-434e-b84f-5c5f62dd2939"
      },
      "execution_count": 281,
      "outputs": [
        {
          "output_type": "stream",
          "name": "stdout",
          "text": [
            "nishamian.\n",
            "jake.\n",
            "aivik.\n",
            "dayde.\n",
            "renanah.\n",
            "kalylen.\n",
            "shanamiakhanka.\n",
            "elemilly.\n",
            "kya.\n",
            "perlyn.\n",
            "lavi.\n",
            "zimeen.\n",
            "izy.\n",
            "niah.\n",
            "tulq.\n",
            "rhaan.\n",
            "ruzath.\n",
            "syle.\n",
            "chentecikton.\n",
            "pon.\n"
          ]
        }
      ]
    }
  ]
}